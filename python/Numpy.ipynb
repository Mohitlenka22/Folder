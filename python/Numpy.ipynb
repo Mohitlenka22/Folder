{
 "cells": [
  {
   "cell_type": "code",
   "execution_count": 15,
   "id": "4e6d7027",
   "metadata": {},
   "outputs": [
    {
     "name": "stdout",
     "output_type": "stream",
     "text": [
      "112\n",
      "16\n"
     ]
    }
   ],
   "source": [
    "import numpy as np\n",
    "import sys\n",
    "\n",
    "a = [1, 2, 3, 4]\n",
    "print(sys.getsizeof(1) * len(a))\n",
    "my_arr = np.array(a)\n",
    "my_arr\n",
    "print(my_arr.itemsize * my_arr.size)"
   ]
  },
  {
   "cell_type": "code",
   "execution_count": 23,
   "id": "8508f19c",
   "metadata": {},
   "outputs": [
    {
     "name": "stdout",
     "output_type": "stream",
     "text": [
      "[[0 1 2]\n",
      " [3 4 5]\n",
      " [6 7 8]]\n",
      "[[ 3  4  5]\n",
      " [ 6  7  8]\n",
      " [ 9 10 11]]\n",
      "[[ 0  4 10]\n",
      " [18 28 40]\n",
      " [54 70 88]]\n",
      "[[ 24  27  30]\n",
      " [ 78  90 102]\n",
      " [132 153 174]]\n",
      "12\n",
      "12\n"
     ]
    }
   ],
   "source": [
    "m1 = np.arange(9).reshape(3,3)\n",
    "print(m1)\n",
    "m2 = np.arange(3,12).reshape(3,3)\n",
    "print(m2)\n",
    "\n",
    "print(m1 * m2) # element wise product\n",
    "print(np.dot(m1,m2)) #matrix product\n",
    "print(np.trace(m1))\n",
    "print(m1.trace())"
   ]
  },
  {
   "cell_type": "code",
   "execution_count": 26,
   "id": "7690a2b9",
   "metadata": {},
   "outputs": [
    {
     "data": {
      "text/plain": [
       "array([[1, 4, 2],\n",
       "       [2, 2, 0],\n",
       "       [3, 0, 1]])"
      ]
     },
     "execution_count": 26,
     "metadata": {},
     "output_type": "execute_result"
    }
   ],
   "source": [
    "a1 = np.array(np.mat('[1 2 3]; [4 2 0]; [2 0 1]'))\n",
    "a1.T\n",
    "a1.transpose()"
   ]
  },
  {
   "cell_type": "code",
   "execution_count": 31,
   "id": "f095dfb2",
   "metadata": {},
   "outputs": [
    {
     "data": {
      "text/plain": [
       "array([[0, 1, 2],\n",
       "       [0, 1, 2],\n",
       "       [0, 1, 2]], dtype=int64)"
      ]
     },
     "execution_count": 31,
     "metadata": {},
     "output_type": "execute_result"
    }
   ],
   "source": [
    "z1 = np.ones((3,3))\n",
    "z1\n",
    "z1.argmax(axis=0)\n",
    "z1.argsort(axis=1)"
   ]
  },
  {
   "cell_type": "code",
   "execution_count": 38,
   "id": "68b6333d",
   "metadata": {},
   "outputs": [
    {
     "name": "stdout",
     "output_type": "stream",
     "text": [
      "[[0.08214447 0.35316106 0.94131746]\n",
      " [0.63967481 0.08516993 0.0540903 ]\n",
      " [0.2814493  0.93421758 0.27944414]]\n"
     ]
    },
    {
     "data": {
      "text/plain": [
       "0.9413174633818695"
      ]
     },
     "execution_count": 38,
     "metadata": {},
     "output_type": "execute_result"
    }
   ],
   "source": [
    "r1 = np.random.random(9).reshape(3,3)\n",
    "print(r1)\n",
    "r1.min()"
   ]
  },
  {
   "cell_type": "code",
   "execution_count": 40,
   "id": "363f5218",
   "metadata": {},
   "outputs": [
    {
     "data": {
      "text/plain": [
       "0.9413174633818695"
      ]
     },
     "execution_count": 40,
     "metadata": {},
     "output_type": "execute_result"
    }
   ],
   "source": [
    "r1.max()"
   ]
  },
  {
   "cell_type": "code",
   "execution_count": 44,
   "id": "a422d0b5",
   "metadata": {},
   "outputs": [
    {
     "data": {
      "text/plain": [
       "array([[0.08214447, 0.35316106, 0.94131746],\n",
       "       [0.0540903 , 0.08516993, 0.63967481],\n",
       "       [0.27944414, 0.2814493 , 0.93421758]])"
      ]
     },
     "execution_count": 44,
     "metadata": {},
     "output_type": "execute_result"
    }
   ],
   "source": [
    "r1.sort()\n",
    "r1"
   ]
  },
  {
   "cell_type": "code",
   "execution_count": 46,
   "id": "be4977dd",
   "metadata": {},
   "outputs": [
    {
     "data": {
      "text/plain": [
       "array([[1.        , 0.96471297, 0.95203691],\n",
       "       [0.96471297, 1.        , 0.99900889],\n",
       "       [0.95203691, 0.99900889, 1.        ]])"
      ]
     },
     "execution_count": 46,
     "metadata": {},
     "output_type": "execute_result"
    }
   ],
   "source": [
    "np.corrcoef(r1)"
   ]
  },
  {
   "cell_type": "code",
   "execution_count": 47,
   "id": "7d825b69",
   "metadata": {},
   "outputs": [
    {
     "data": {
      "text/plain": [
       "2.3333333333333335"
      ]
     },
     "execution_count": 47,
     "metadata": {},
     "output_type": "execute_result"
    }
   ],
   "source": [
    "n = np.array([[1,2,3],\n",
    "             [2,3,5],\n",
    "             [0,1,4]])\n",
    "np.mean(n)"
   ]
  },
  {
   "cell_type": "code",
   "execution_count": 48,
   "id": "e3a3fdcd",
   "metadata": {},
   "outputs": [
    {
     "data": {
      "text/plain": [
       "2.0"
      ]
     },
     "execution_count": 48,
     "metadata": {},
     "output_type": "execute_result"
    }
   ],
   "source": [
    "np.median(n)"
   ]
  },
  {
   "cell_type": "code",
   "execution_count": 49,
   "id": "b8acc0b6",
   "metadata": {},
   "outputs": [
    {
     "data": {
      "text/plain": [
       "1.4907119849998598"
      ]
     },
     "execution_count": 49,
     "metadata": {},
     "output_type": "execute_result"
    }
   ],
   "source": [
    "np.std(n)"
   ]
  },
  {
   "cell_type": "code",
   "execution_count": 52,
   "id": "add75801",
   "metadata": {},
   "outputs": [
    {
     "data": {
      "text/plain": [
       "1.0"
      ]
     },
     "execution_count": 52,
     "metadata": {},
     "output_type": "execute_result"
    }
   ],
   "source": [
    "np.percentile(n,25)"
   ]
  },
  {
   "cell_type": "code",
   "execution_count": null,
   "id": "7c776385",
   "metadata": {},
   "outputs": [],
   "source": []
  }
 ],
 "metadata": {
  "kernelspec": {
   "display_name": "Python 3.8.0 64-bit",
   "language": "python",
   "name": "python3"
  },
  "language_info": {
   "codemirror_mode": {
    "name": "ipython",
    "version": 3
   },
   "file_extension": ".py",
   "mimetype": "text/x-python",
   "name": "python",
   "nbconvert_exporter": "python",
   "pygments_lexer": "ipython3",
   "version": "3.8.0"
  },
  "vscode": {
   "interpreter": {
    "hash": "4177aea96b5af4697db9aa18bb8e0e54998b0cd96e56f37b8556cfaee88663c8"
   }
  }
 },
 "nbformat": 4,
 "nbformat_minor": 5
}
