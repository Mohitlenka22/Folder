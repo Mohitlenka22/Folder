{
 "cells": [
  {
   "cell_type": "code",
   "execution_count": 6,
   "metadata": {},
   "outputs": [
    {
     "name": "stdout",
     "output_type": "stream",
     "text": [
      "<re.Match object; span=(0, 4), match='This'>\n"
     ]
    }
   ],
   "source": [
    "import re\n",
    "\n",
    "string = 'This is a PythonVerse.'\n",
    "res = re.match('This', string) # matches pattern at start of string.\n",
    "print(res)"
   ]
  },
  {
   "cell_type": "code",
   "execution_count": 8,
   "metadata": {},
   "outputs": [
    {
     "data": {
      "text/plain": [
       "<re.Match object; span=(5, 9), match='spam'>"
      ]
     },
     "execution_count": 8,
     "metadata": {},
     "output_type": "execute_result"
    }
   ],
   "source": [
    "s1 = 'spal spamspam egg.'\n",
    "l = re.search('spam', s1) # searches the pattern in overall string.\n",
    "l"
   ]
  },
  {
   "cell_type": "code",
   "execution_count": 10,
   "metadata": {},
   "outputs": [
    {
     "data": {
      "text/plain": [
       "['pam', 'pam', 'pam', 'pam']"
      ]
     },
     "execution_count": 10,
     "metadata": {},
     "output_type": "execute_result"
    }
   ],
   "source": [
    "s2 = r'spam spamspamspam eggs are over!' # raw strings\n",
    "ans = re.findall('pam', s2) # finds all patterns in string.\n",
    "ans\n"
   ]
  },
  {
   "cell_type": "code",
   "execution_count": 11,
   "metadata": {},
   "outputs": [
    {
     "data": {
      "text/plain": [
       "['pat', 'mat', 'rat', 'hat']"
      ]
     },
     "execution_count": 11,
     "metadata": {},
     "output_type": "execute_result"
    }
   ],
   "source": [
    "s3 = r'Cat pat mat rat hat.'\n",
    "# [] will used place each character at once  to make a pattern.\n",
    "re.findall('[cpmrh]at', s3) #considers all uppercase & lowercase.\n"
   ]
  },
  {
   "cell_type": "code",
   "execution_count": 16,
   "metadata": {},
   "outputs": [
    {
     "name": "stdout",
     "output_type": "stream",
     "text": [
      "<re.Match object; span=(0, 3), match='cat'>\n",
      "<re.Match object; span=(4, 7), match='mat'>\n",
      "<re.Match object; span=(8, 11), match='pat'>\n"
     ]
    }
   ],
   "source": [
    "s4 = r'cat mat pat.' # raw strings are used to stop the functionality of \\ (backslases).\n",
    "for item in re.finditer('[cpmf]at', s4):\n",
    "    print(item)"
   ]
  },
  {
   "cell_type": "code",
   "execution_count": 19,
   "metadata": {},
   "outputs": [
    {
     "data": {
      "text/plain": [
       "['at', 'ap']"
      ]
     },
     "execution_count": 19,
     "metadata": {},
     "output_type": "execute_result"
    }
   ],
   "source": [
    "s5 = 'He eats apple.'\n",
    "# '.' it represents any character or whitespace\n",
    "re.findall('a.', s5)"
   ]
  },
  {
   "cell_type": "code",
   "execution_count": 21,
   "metadata": {},
   "outputs": [
    {
     "data": {
      "text/plain": [
       "['0', '1', '2', '3', '4', '5', '6', '7', '8', '9']"
      ]
     },
     "execution_count": 21,
     "metadata": {},
     "output_type": "execute_result"
    }
   ],
   "source": [
    "ph = '0123456789'\n",
    "re.findall('[0-9]', ph)\n",
    "re.findall('\\d', ph)"
   ]
  },
  {
   "cell_type": "code",
   "execution_count": 27,
   "metadata": {},
   "outputs": [
    {
     "data": {
      "text/plain": [
       "[]"
      ]
     },
     "execution_count": 27,
     "metadata": {},
     "output_type": "execute_result"
    }
   ],
   "source": [
    "ph = '123456789021'\n",
    "# ^ means other than that\n",
    "re.findall('^[0-9]', ph)\n",
    "re.findall('\\D', ph)\n"
   ]
  },
  {
   "cell_type": "code",
   "execution_count": 29,
   "metadata": {},
   "outputs": [
    {
     "data": {
      "text/plain": [
       "['8',\n",
       " 'e',\n",
       " 'b',\n",
       " '3',\n",
       " '2',\n",
       " '1',\n",
       " '9',\n",
       " '0',\n",
       " '8',\n",
       " '2',\n",
       " '4',\n",
       " '7',\n",
       " 'b',\n",
       " 'a',\n",
       " 'h',\n",
       " 'h',\n",
       " 'd',\n",
       " 'd',\n",
       " 'h',\n",
       " 'g',\n",
       " '@',\n",
       " '#',\n",
       " '$',\n",
       " '%',\n",
       " '^',\n",
       " '&']"
      ]
     },
     "execution_count": 29,
     "metadata": {},
     "output_type": "execute_result"
    }
   ],
   "source": [
    "# \\w means [a-zA-Z0-9_]\n",
    "# \\W means [^a-zA-Z0-9_]\n",
    "a = r'8eb321908247bahhddhg@#$%^&'\n",
    "re.findall('\\w', a)\n",
    "re.findall('')"
   ]
  },
  {
   "cell_type": "code",
   "execution_count": null,
   "metadata": {},
   "outputs": [],
   "source": []
  }
 ],
 "metadata": {
  "kernelspec": {
   "display_name": "Python 3.8.0 64-bit",
   "language": "python",
   "name": "python3"
  },
  "language_info": {
   "codemirror_mode": {
    "name": "ipython",
    "version": 3
   },
   "file_extension": ".py",
   "mimetype": "text/x-python",
   "name": "python",
   "nbconvert_exporter": "python",
   "pygments_lexer": "ipython3",
   "version": "3.8.0"
  },
  "orig_nbformat": 4,
  "vscode": {
   "interpreter": {
    "hash": "4177aea96b5af4697db9aa18bb8e0e54998b0cd96e56f37b8556cfaee88663c8"
   }
  }
 },
 "nbformat": 4,
 "nbformat_minor": 2
}
