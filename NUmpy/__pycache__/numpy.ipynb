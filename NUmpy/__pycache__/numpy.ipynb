{
 "cells": [
  {
   "cell_type": "code",
   "execution_count": 2,
   "metadata": {},
   "outputs": [
    {
     "name": "stdout",
     "output_type": "stream",
     "text": [
      "[1.2, 3.3, 4.4, 5.1]\n",
      "size 88\n",
      "[1.2 3.3 4.4 5.1]\n",
      "size 32\n"
     ]
    }
   ],
   "source": [
    "import numpy as np\n",
    "import sys\n",
    "\n",
    "a = [1.2, 3.3, 4.4, 5.1]\n",
    "print(a)\n",
    "print('size', sys.getsizeof(a))\n",
    "N_arr = np.asarray(a)\n",
    "print(N_arr)\n",
    "print('size', N_arr.itemsize * N_arr.size)"
   ]
  },
  {
   "cell_type": "code",
   "execution_count": 8,
   "metadata": {},
   "outputs": [
    {
     "name": "stdout",
     "output_type": "stream",
     "text": [
      "[ 1  2  3  4  5  6  7  8  9 10 11 12 13 14 15 16 17 18 19]\n",
      "[1 2 3 4 5 6 7 8 9]\n",
      "[ 0  2  4  6  8 10 12 14]\n",
      "[17 15 13 11  9  7  5  3  1]\n",
      "[13 14 15 16 17 18]\n",
      "[2 5]\n",
      "[2 5 8]\n",
      "[[ 0  2  4  6  8]\n",
      " [10 12 14 16 18]\n",
      " [20 22 24 26 28]]\n",
      "[12 14 16 18 20 22 24 26 28]\n",
      "[ 0 10 20]\n"
     ]
    },
    {
     "data": {
      "text/plain": [
       "array([ 20,  70, 120])"
      ]
     },
     "execution_count": 8,
     "metadata": {},
     "output_type": "execute_result"
    }
   ],
   "source": [
    "a = np.arange(20)\n",
    "print(a[1:])\n",
    "print(a[1:10])\n",
    "print(a[0:15:2])\n",
    "print(a[17:0:-2])\n",
    "print(a[-7:19:1])\n",
    "\n",
    "#integer Indexing\n",
    "a = np.array([[1, 2, 3],\n",
    "              [4, 5, 6],\n",
    "              [7, 8, 9]])\n",
    "print(a[[0,1], [1,1]])\n",
    "print(a[[0, 1, 2], [1, 1, 1]])\n",
    "\n",
    "#Boolean indexing\n",
    "b = np.arange(0, 30, 2).reshape(3,5)\n",
    "print(b)\n",
    "print(b[b>10])\n",
    "\n",
    "print(b[b%5 == 0])\n",
    "\n",
    "b.sum(axis = 1)\n"
   ]
  },
  {
   "cell_type": "code",
   "execution_count": 9,
   "metadata": {},
   "outputs": [
    {
     "name": "stdout",
     "output_type": "stream",
     "text": [
      "[[ 0  1  2  3  4  5  6  7  8  9]\n",
      " [10 11 12 13 14 15 16 17 18 19]]\n",
      "[10 11 12 13 14 15 16 17 18 19]\n",
      "0\n",
      "[ 45 145]\n",
      "[  0   1   3   6  10  15  21  28  36  45  55  66  78  91 105 120 136 153\n",
      " 171 190]\n"
     ]
    }
   ],
   "source": [
    "arr = np.arange(20).reshape(2, 10)\n",
    "print(arr)\n",
    "print(arr.max(axis = 0))\n",
    "print(arr.min())\n",
    "print(arr.sum(axis = 1))\n",
    "print(arr.cumsum())"
   ]
  },
  {
   "cell_type": "code",
   "execution_count": 59,
   "metadata": {},
   "outputs": [
    {
     "name": "stdout",
     "output_type": "stream",
     "text": [
      "(3, 2)\n",
      "2\n",
      "6\n",
      "int32\n"
     ]
    }
   ],
   "source": [
    "arr = np.array([[1, 2],\n",
    "                [3, 4],\n",
    "                [5, 6]])\n",
    "print(arr.shape)\n",
    "print(arr.ndim)\n",
    "print(arr.size)\n",
    "print(arr.dtype)"
   ]
  },
  {
   "cell_type": "code",
   "execution_count": null,
   "metadata": {},
   "outputs": [],
   "source": []
  }
 ],
 "metadata": {
  "kernelspec": {
   "display_name": "Python 3.8.0 64-bit",
   "language": "python",
   "name": "python3"
  },
  "language_info": {
   "codemirror_mode": {
    "name": "ipython",
    "version": 3
   },
   "file_extension": ".py",
   "mimetype": "text/x-python",
   "name": "python",
   "nbconvert_exporter": "python",
   "pygments_lexer": "ipython3",
   "version": "3.8.0"
  },
  "orig_nbformat": 4,
  "vscode": {
   "interpreter": {
    "hash": "4177aea96b5af4697db9aa18bb8e0e54998b0cd96e56f37b8556cfaee88663c8"
   }
  }
 },
 "nbformat": 4,
 "nbformat_minor": 2
}
